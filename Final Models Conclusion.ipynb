{
 "cells": [
  {
   "cell_type": "markdown",
   "metadata": {},
   "source": [
    "# Final Models Conclusion"
   ]
  },
  {
   "cell_type": "markdown",
   "metadata": {},
   "source": [
    "I had Three types of datasets which are\n",
    " 1. Original Data\n",
    " 2. Original Data + Data Augmentation 1\n",
    " 3. Original Data + Data Augmentation 2\n",
    " \n",
    "I have trained VGG16, VGG19, Densenet, Resnet on these data. I have created three types of training for each model.\n",
    " \n",
    " 1. logistic regression (Baseline model)\n",
    " 2. Training only FC layers.\n",
    " 3. Training All layers"
   ]
  },
  {
   "cell_type": "code",
   "execution_count": null,
   "metadata": {},
   "outputs": [],
   "source": [
    "import pandas as pd\n",
    "import matplotlib.pyplot as plt\n",
    "import seaborn as sns\n",
    "import numpy as np\n",
    "import os\n",
    "import re\n",
    "import random\n",
    "from tqdm import tqdm\n",
    "import tensorflow as tf\n",
    "import cv2\n",
    "from tensorflow.keras.preprocessing.image import ImageDataGenerator\n",
    "from tensorflow.keras.preprocessing.image import load_img,img_to_array\n",
    "from tensorflow.keras.models import Sequential, Model, load_model"
   ]
  },
  {
   "cell_type": "markdown",
   "metadata": {},
   "source": [
    " 1. FC represents Training FC layers only.\n",
    " 2. ALL represents Training all layers.\n",
    " \n",
    " 3. Stage 1 is Checking Damaged or Not\n",
    " 4. Stage 2 is Damage Localization (Front, Rear or Side)\n",
    " 5. Stage 3 is Damage Severity (Minor, Moderate, Severe)"
   ]
  },
  {
   "cell_type": "markdown",
   "metadata": {},
   "source": [
    "### Original Data"
   ]
  },
  {
   "cell_type": "code",
   "execution_count": null,
   "metadata": {},
   "outputs": [],
   "source": [
    "vgg16 = pd.read_csv('Comparision_CSV/Original_data/vgg16_scores.csv')\n",
    "vgg19 = pd.read_csv('Comparision_CSV/Original_data/vgg19_scores.csv')\n",
    "densenet = pd.read_csv('Comparision_CSV/Original_data/densenet_scores.csv')\n",
    "resnet = pd.read_csv('Comparision_CSV/Original_data/resnet_scores.csv')"
   ]
  },
  {
   "cell_type": "code",
   "execution_count": null,
   "metadata": {},
   "outputs": [],
   "source": [
    "from IPython.display import display_html"
   ]
  },
  {
   "cell_type": "code",
   "execution_count": null,
   "metadata": {},
   "outputs": [],
   "source": [
    "with pd.option_context('display.precision', 3):\n",
    "    df1_styler = vgg16.style.set_table_attributes(\"style='display:inline'\").set_caption('Vgg16')\n",
    "    df2_styler = vgg19.style.set_table_attributes(\"style='display:inline'\").set_caption('Vgg19')\n",
    "    df3_styler = densenet.style.set_table_attributes(\"style='display:inline'\").set_caption('Densenet')\n",
    "    df4_styler = resnet.style.set_table_attributes(\"style='display:inline'\").set_caption('Resnet')\n",
    "\n",
    "display_html(df1_styler._repr_html_()+df2_styler._repr_html_()+df3_styler._repr_html_()+df4_styler._repr_html_(), raw=True)"
   ]
  },
  {
   "cell_type": "markdown",
   "metadata": {},
   "source": [
    "1. Stage 1 (Check Damaged or Not):\n",
    "\n",
    "    For Stage 1 we can see that Densenet trained on all layers is performing better than other models. We have got an accuracy of 96.3 % on this model, precision of 94.9% and recall of 97.8%\n",
    "\n",
    "\n",
    "2. Stage 2 (Damage Localization):\n",
    "\n",
    "    For Stage 2 we can see that Densenet trained on all layers is performing better than other models. We have got an accuracy of 76.5 % on this model, precision of 76.8% and recall of 74.4%\n",
    "\n",
    "\n",
    "3. Stage 3 (Damage Severity)\n",
    "\n",
    "    For Stage 2 we can see that Resnet trained on all layers is performing better than other models. We have got an accuracy of 67.8 % on this model, precision of 68.5% and recall of 67.3%"
   ]
  },
  {
   "cell_type": "markdown",
   "metadata": {},
   "source": [
    "### Original Data + Data Augmentation 1"
   ]
  },
  {
   "cell_type": "code",
   "execution_count": null,
   "metadata": {},
   "outputs": [],
   "source": [
    "vgg16 = pd.read_csv('Comparision_CSV/Original_Aug1_data/vgg16_scores.csv')\n",
    "vgg19 = pd.read_csv('Comparision_CSV/Original_Aug1_data/vgg19_scores.csv')\n",
    "densenet = pd.read_csv('Comparision_CSV/Original_Aug1_data/densenet_scores.csv')\n",
    "resnet = pd.read_csv('Comparision_CSV/Original_Aug1_data/resnet_scores.csv')"
   ]
  },
  {
   "cell_type": "code",
   "execution_count": null,
   "metadata": {},
   "outputs": [],
   "source": [
    "from IPython.display import display_html"
   ]
  },
  {
   "cell_type": "code",
   "execution_count": null,
   "metadata": {},
   "outputs": [],
   "source": [
    "with pd.option_context('display.precision', 3):\n",
    "    df1_styler = vgg16.style.set_table_attributes(\"style='display:inline'\").set_caption('Vgg16')\n",
    "    df2_styler = vgg19.style.set_table_attributes(\"style='display:inline'\").set_caption('Vgg19')\n",
    "    df3_styler = densenet.style.set_table_attributes(\"style='display:inline'\").set_caption('Densenet')\n",
    "    df4_styler = resnet.style.set_table_attributes(\"style='display:inline'\").set_caption('Resnet')\n",
    "\n",
    "display_html(df1_styler._repr_html_()+df2_styler._repr_html_()+df3_styler._repr_html_()+df4_styler._repr_html_(), raw=True)"
   ]
  },
  {
   "cell_type": "markdown",
   "metadata": {},
   "source": [
    "1. Stage 1 (Check Damaged or Not):\n",
    "\n",
    "    For Stage 1 we can see that Resnet and Densenet trained on all layers are performing better than other models. We have got an accuracy of 96.1 % on resnet model but precison is lower than the densenet model. For Densenet model accuracy is 95.9%,  precision of 94.9% and recall of 97.8%.\n",
    "\n",
    "\n",
    "2. Stage 2 (Damage Localization):\n",
    "\n",
    "    For Stage 2 we can see that Densenet trained on all layers is performing better than other models. We have got an accuracy of 80.4 % on this model, precision of 80.7% and recall of 78.9%\n",
    "\n",
    "\n",
    "3. Stage 3 (Damage Severity)\n",
    "\n",
    "    For Stage 2 we can see that Resnet trained on all layers is performing better than other models. We have got an accuracy of 69.6 % on this model, precision of 69.2% and recall of 68.5%"
   ]
  },
  {
   "cell_type": "markdown",
   "metadata": {},
   "source": [
    "### Original Data + Data Augmentation 2"
   ]
  },
  {
   "cell_type": "code",
   "execution_count": null,
   "metadata": {},
   "outputs": [],
   "source": [
    "vgg16 = pd.read_csv('Comparision_CSV/Original_Aug2_data/vgg16_scores.csv')\n",
    "vgg19 = pd.read_csv('Comparision_CSV/Original_Aug2_data/vgg19_scores.csv')\n",
    "densenet = pd.read_csv('Comparision_CSV/Original_Aug2_data/densenet_scores.csv')\n",
    "resnet = pd.read_csv('Comparision_CSV/Original_Aug2_data/resnet_scores.csv')"
   ]
  },
  {
   "cell_type": "code",
   "execution_count": null,
   "metadata": {},
   "outputs": [],
   "source": [
    "from IPython.display import display_html"
   ]
  },
  {
   "cell_type": "code",
   "execution_count": null,
   "metadata": {},
   "outputs": [],
   "source": [
    "with pd.option_context('display.precision', 3):\n",
    "    df1_styler = vgg16.style.set_table_attributes(\"style='display:inline'\").set_caption('Vgg16')\n",
    "    df2_styler = vgg19.style.set_table_attributes(\"style='display:inline'\").set_caption('Vgg19')\n",
    "    df3_styler = densenet.style.set_table_attributes(\"style='display:inline'\").set_caption('Densenet')\n",
    "    df4_styler = resnet.style.set_table_attributes(\"style='display:inline'\").set_caption('Resnet')\n",
    "\n",
    "display_html(df1_styler._repr_html_()+df2_styler._repr_html_()+df3_styler._repr_html_()+df4_styler._repr_html_(), raw=True)"
   ]
  },
  {
   "cell_type": "markdown",
   "metadata": {},
   "source": [
    "1. Stage 1 (Check Damaged or Not):\n",
    "\n",
    "    For Stage 1 we can see that Resnet and Densenet trained on all layers are performing better than other models. We have got an accuracy of 95.4 % on resnet model but precison is lower than the densenet model. For Densenet model accuracy is 95.4%,  precision of 94.1% and recall of 96.9%.\n",
    "\n",
    "\n",
    "2. Stage 2 (Damage Localization):\n",
    "\n",
    "    For Stage 2 we can see that Densenet trained on all layers is performing better than other models. We have got an accuracy of 77.7 % on this model, precision of 77.8% and recall of 766.6%\n",
    "\n",
    "\n",
    "3. Stage 3 (Damage Severity)\n",
    "\n",
    "    For Stage 2 we can see that Resnet trained on all layers is performing better than other models. We have got an accuracy of 68.4 % on this model, precision of 68.6% and recall of 68.0%"
   ]
  },
  {
   "cell_type": "markdown",
   "metadata": {},
   "source": [
    "## Conclusion:"
   ]
  },
  {
   "cell_type": "markdown",
   "metadata": {},
   "source": [
    "1. From above all models we can see that the Densenet (Trained on all layers) model which is trained on the Original data with augmentation 1 is performing best in Stage 2 and Stage 3.  \n",
    "2. For Stage 1 densenet (Trained on all layers) trained on Orginal data with Augmentation 1 is very close to the model trained on Orginal data and precision of both models are same. So we can use the densenet (Trained on all layers) trained on Orginal data with Augmentation 1 instead of model trained on original data."
   ]
  },
  {
   "cell_type": "markdown",
   "metadata": {},
   "source": [
    "## Visualization of Falsely Predicted images"
   ]
  },
  {
   "cell_type": "markdown",
   "metadata": {},
   "source": [
    "## Stage 1"
   ]
  },
  {
   "cell_type": "markdown",
   "metadata": {},
   "source": [
    "#### Getting Edge cases for Best Model"
   ]
  },
  {
   "cell_type": "code",
   "execution_count": null,
   "metadata": {},
   "outputs": [],
   "source": [
    "path = 'C:\\\\Users\\\\Priyathambns\\\\Desktop\\\\Case study -2\\\\data\\\\data_1\\\\test'\n",
    "class_labels = os.listdir(path)"
   ]
  },
  {
   "cell_type": "code",
   "execution_count": null,
   "metadata": {},
   "outputs": [],
   "source": [
    "file_1 = [path+'\\\\damaged'+'\\\\'+i for i in os.listdir(path+'\\\\damaged')]\n",
    "file_2 = [path+'\\\\not_damaged'+'\\\\'+i for i in os.listdir(path+'\\\\not_damaged')]\n",
    "files_list = file_1+file_2"
   ]
  },
  {
   "cell_type": "code",
   "execution_count": null,
   "metadata": {},
   "outputs": [],
   "source": [
    "test_gen = ImageDataGenerator()\n",
    "x_test = test_gen.flow_from_directory(path,target_size = (256,256),batch_size = 1, class_mode = \"binary\",shuffle = False)"
   ]
  },
  {
   "cell_type": "code",
   "execution_count": null,
   "metadata": {},
   "outputs": [],
   "source": [
    "y_true = list(x_test.classes)"
   ]
  },
  {
   "cell_type": "code",
   "execution_count": null,
   "metadata": {},
   "outputs": [],
   "source": [
    "best_model = load_model('Comparision_CSV/Original_Aug1_data/densenet/densenet_stage1_all-0.959.hdf5')"
   ]
  },
  {
   "cell_type": "code",
   "execution_count": null,
   "metadata": {},
   "outputs": [],
   "source": [
    "y_predicted = best_model.predict(x_test)"
   ]
  },
  {
   "cell_type": "code",
   "execution_count": null,
   "metadata": {},
   "outputs": [],
   "source": [
    "y_pred = []\n",
    "for i in y_predicted:\n",
    "    if i<=0.5:\n",
    "        y_pred.append(0)\n",
    "    else:\n",
    "        y_pred.append(1)"
   ]
  },
  {
   "cell_type": "code",
   "execution_count": null,
   "metadata": {},
   "outputs": [],
   "source": [
    "def get_edge_cases(y_true,y_pred):\n",
    "    fp = []\n",
    "    fn = []\n",
    "    for i in range(len(y_pred)):\n",
    "        if y_pred[i] == 0:\n",
    "            if y_true[i] == 1:\n",
    "                fp.append(files_list[i])\n",
    "        if y_pred[i] == 1:\n",
    "            if y_true[i] == 0:\n",
    "                fn.append(files_list[i])\n",
    "    print('Number of False positives is',len(fp))\n",
    "    print('Number of False negatives is',len(fn))\n",
    "    return fp,fn"
   ]
  },
  {
   "cell_type": "code",
   "execution_count": null,
   "metadata": {},
   "outputs": [],
   "source": [
    "False_positives,False_negatives = get_edge_cases(y_true,y_pred)"
   ]
  },
  {
   "cell_type": "markdown",
   "metadata": {},
   "source": [
    "### False Positives"
   ]
  },
  {
   "cell_type": "code",
   "execution_count": null,
   "metadata": {},
   "outputs": [],
   "source": [
    "#False Positives (Predicted to be damaged but true value is not_damaged)\n",
    "plt.imshow(load_img(False_positives[0]))"
   ]
  },
  {
   "cell_type": "code",
   "execution_count": null,
   "metadata": {},
   "outputs": [],
   "source": [
    "plt.imshow(load_img(False_positives[1]))"
   ]
  },
  {
   "cell_type": "markdown",
   "metadata": {},
   "source": [
    "### False Negatives"
   ]
  },
  {
   "cell_type": "code",
   "execution_count": null,
   "metadata": {},
   "outputs": [],
   "source": [
    "#False Positives (Predicted to be not damaged but true value is damaged)\n",
    "plt.imshow(load_img(False_negatives[0]))"
   ]
  },
  {
   "cell_type": "code",
   "execution_count": null,
   "metadata": {},
   "outputs": [],
   "source": [
    "plt.imshow(load_img(False_negatives[1]))"
   ]
  },
  {
   "cell_type": "markdown",
   "metadata": {},
   "source": [
    "## Stage 2"
   ]
  },
  {
   "cell_type": "markdown",
   "metadata": {},
   "source": [
    "#### Getting Edge cases for Best Model"
   ]
  },
  {
   "cell_type": "code",
   "execution_count": null,
   "metadata": {},
   "outputs": [],
   "source": [
    "path = 'C:\\\\Users\\\\Priyathambns\\\\Desktop\\\\Case study -2\\\\data\\\\data_2\\\\test'\n",
    "class_labels = os.listdir(path)"
   ]
  },
  {
   "cell_type": "code",
   "execution_count": null,
   "metadata": {},
   "outputs": [],
   "source": [
    "file_1 = [path+'\\\\front'+'\\\\'+i for i in os.listdir(path+'\\\\front')]\n",
    "file_2 = [path+'\\\\rear'+'\\\\'+i for i in os.listdir(path+'\\\\rear')]\n",
    "file_3 = [path+'\\\\side'+'\\\\'+i for i in os.listdir(path+'\\\\side')]\n",
    "files_list = file_1+file_2+file_3"
   ]
  },
  {
   "cell_type": "code",
   "execution_count": null,
   "metadata": {},
   "outputs": [],
   "source": [
    "test_gen = ImageDataGenerator()\n",
    "x_test = test_gen.flow_from_directory(path,target_size = (256,256),batch_size = 1,shuffle = False)"
   ]
  },
  {
   "cell_type": "code",
   "execution_count": null,
   "metadata": {},
   "outputs": [],
   "source": [
    "y_true = list(x_test.classes)"
   ]
  },
  {
   "cell_type": "code",
   "execution_count": null,
   "metadata": {},
   "outputs": [],
   "source": [
    "best_model = load_model('Comparision_CSV/Original_Aug1_data/densenet/densenet_stage2_all-0.804.hdf5')"
   ]
  },
  {
   "cell_type": "code",
   "execution_count": null,
   "metadata": {},
   "outputs": [],
   "source": [
    "y_predicted = best_model.predict(x_test)"
   ]
  },
  {
   "cell_type": "code",
   "execution_count": null,
   "metadata": {},
   "outputs": [],
   "source": [
    "y_pred = []\n",
    "for i in y_predicted:\n",
    "    y_pred.append(np.argmax(i))"
   ]
  },
  {
   "cell_type": "code",
   "execution_count": null,
   "metadata": {},
   "outputs": [],
   "source": [
    "def get_edge_cases(y_true,y_pred):\n",
    "    false_front = []\n",
    "    false_rear = []\n",
    "    false_side = []\n",
    "    for i in range(len(y_pred)):\n",
    "        if y_pred[i] == 0:\n",
    "            if y_true[i] == 1 or y_true[i] == 2:\n",
    "                false_front.append([files_list[i],y_true[i]])\n",
    "        if y_pred[i] == 1:\n",
    "            if y_true[i] == 0 or y_true[i] == 2:\n",
    "                false_rear.append([files_list[i],y_true[i]])\n",
    "        if y_pred[i] == 2:\n",
    "            if y_true[i]==0 or y_true[i] == 1:\n",
    "                false_side.append([files_list[i],y_true[i]])\n",
    "    return false_front,false_rear,false_side"
   ]
  },
  {
   "cell_type": "code",
   "execution_count": null,
   "metadata": {},
   "outputs": [],
   "source": [
    "f_front,f_rear,f_side = get_edge_cases(y_true,y_pred)"
   ]
  },
  {
   "cell_type": "markdown",
   "metadata": {},
   "source": [
    "### False Front"
   ]
  },
  {
   "cell_type": "code",
   "execution_count": null,
   "metadata": {},
   "outputs": [],
   "source": [
    "#Predicted to be damaged at front but true value is rear\n",
    "plt.imshow(load_img(f_front[2][0]))"
   ]
  },
  {
   "cell_type": "code",
   "execution_count": null,
   "metadata": {},
   "outputs": [],
   "source": [
    "#Predicted to be damaged at front but true value is side\n",
    "plt.imshow(load_img(f_front[-1][0]))"
   ]
  },
  {
   "cell_type": "markdown",
   "metadata": {},
   "source": [
    "### False Rear"
   ]
  },
  {
   "cell_type": "code",
   "execution_count": null,
   "metadata": {},
   "outputs": [],
   "source": [
    "#Predicted to be damaged at rear but true value is front\n",
    "plt.imshow(load_img(f_rear[0][0]))"
   ]
  },
  {
   "cell_type": "code",
   "execution_count": null,
   "metadata": {},
   "outputs": [],
   "source": [
    "#Predicted to be damaged at rear but true value is side\n",
    "plt.imshow(load_img(f_rear[-1][0]))"
   ]
  },
  {
   "cell_type": "markdown",
   "metadata": {},
   "source": [
    "### False side"
   ]
  },
  {
   "cell_type": "code",
   "execution_count": null,
   "metadata": {},
   "outputs": [],
   "source": [
    "#Predicted to be damaged at side but true value is front\n",
    "plt.imshow(load_img(f_side[0][0]))"
   ]
  },
  {
   "cell_type": "code",
   "execution_count": null,
   "metadata": {},
   "outputs": [],
   "source": [
    "#Predicted to be damaged at side but true value is rear\n",
    "plt.imshow(load_img(f_side[-1][0]))"
   ]
  },
  {
   "cell_type": "markdown",
   "metadata": {},
   "source": [
    "## Stage 3"
   ]
  },
  {
   "cell_type": "markdown",
   "metadata": {},
   "source": [
    "#### Getting Edge cases for Best Model"
   ]
  },
  {
   "cell_type": "code",
   "execution_count": null,
   "metadata": {},
   "outputs": [],
   "source": [
    "path = 'C:\\\\Users\\\\Priyathambns\\\\Desktop\\\\Case study -2\\\\data\\\\data_3\\\\test'\n",
    "class_labels = os.listdir(path)"
   ]
  },
  {
   "cell_type": "code",
   "execution_count": null,
   "metadata": {},
   "outputs": [],
   "source": [
    "file_1 = [path+'\\\\minor'+'\\\\'+i for i in os.listdir(path+'\\\\minor')]\n",
    "file_2 = [path+'\\\\moderate'+'\\\\'+i for i in os.listdir(path+'\\\\moderate')]\n",
    "file_3 = [path+'\\\\severe'+'\\\\'+i for i in os.listdir(path+'\\\\severe')]\n",
    "files_list = file_1+file_2+file_3"
   ]
  },
  {
   "cell_type": "code",
   "execution_count": null,
   "metadata": {},
   "outputs": [],
   "source": [
    "test_gen = ImageDataGenerator()\n",
    "x_test = test_gen.flow_from_directory(path,target_size = (256,256),batch_size = 1,shuffle = False)"
   ]
  },
  {
   "cell_type": "code",
   "execution_count": null,
   "metadata": {},
   "outputs": [],
   "source": [
    "y_true = list(x_test.classes)"
   ]
  },
  {
   "cell_type": "code",
   "execution_count": null,
   "metadata": {},
   "outputs": [],
   "source": [
    "best_model = load_model('Comparision_CSV/Original_Aug1_data/densenet/densenet_stage3_all-0.696.hdf5')"
   ]
  },
  {
   "cell_type": "code",
   "execution_count": null,
   "metadata": {},
   "outputs": [],
   "source": [
    "y_predicted = best_model.predict(x_test)"
   ]
  },
  {
   "cell_type": "code",
   "execution_count": null,
   "metadata": {},
   "outputs": [],
   "source": [
    "y_pred = []\n",
    "for i in y_predicted:\n",
    "    y_pred.append(np.argmax(i))"
   ]
  },
  {
   "cell_type": "code",
   "execution_count": null,
   "metadata": {},
   "outputs": [],
   "source": [
    "def get_edge_cases(y_true,y_pred):\n",
    "    false_minor = []\n",
    "    false_moderate = []\n",
    "    false_severe = []\n",
    "    for i in range(len(y_pred)):\n",
    "        if y_pred[i] == 0:\n",
    "            if y_true[i] == 1 or y_true[i] == 2:\n",
    "                false_minor.append([files_list[i],y_true[i]])\n",
    "        if y_pred[i] == 1:\n",
    "            if y_true[i] == 0 or y_true[i] == 2:\n",
    "                false_moderate.append([files_list[i],y_true[i]])\n",
    "        if y_pred[i] == 2:\n",
    "            if y_true[i]==0 or y_true[i] == 1:\n",
    "                false_severe.append([files_list[i],y_true[i]])\n",
    "\n",
    "    return false_minor,false_moderate,false_severe"
   ]
  },
  {
   "cell_type": "code",
   "execution_count": null,
   "metadata": {},
   "outputs": [],
   "source": [
    "f_minor,f_moderate,f_severe = get_edge_cases(y_true,y_pred)"
   ]
  },
  {
   "cell_type": "markdown",
   "metadata": {},
   "source": [
    "### False minor"
   ]
  },
  {
   "cell_type": "code",
   "execution_count": null,
   "metadata": {},
   "outputs": [],
   "source": [
    "#Predicted to be damaged to be minor but true value is moderate\n",
    "plt.imshow(load_img(f_minor[0][0]))"
   ]
  },
  {
   "cell_type": "code",
   "execution_count": null,
   "metadata": {},
   "outputs": [],
   "source": [
    "#Predicted to be damaged to be front but true value is severe\n",
    "plt.imshow(load_img(f_minor[-1][0]))"
   ]
  },
  {
   "cell_type": "markdown",
   "metadata": {},
   "source": [
    "### False Moderate"
   ]
  },
  {
   "cell_type": "code",
   "execution_count": null,
   "metadata": {},
   "outputs": [],
   "source": [
    "#Predicted to be damaged to be Moderate but true value is minor\n",
    "plt.imshow(load_img(f_moderate[0][0]))"
   ]
  },
  {
   "cell_type": "code",
   "execution_count": null,
   "metadata": {},
   "outputs": [],
   "source": [
    "#Predicted to be damaged to be moderate but true value is severe\n",
    "plt.imshow(load_img(f_moderate[-3][0]))"
   ]
  },
  {
   "cell_type": "markdown",
   "metadata": {},
   "source": [
    "### False Severe"
   ]
  },
  {
   "cell_type": "code",
   "execution_count": null,
   "metadata": {},
   "outputs": [],
   "source": [
    "#Predicted to be damaged to be severe but true value is minor\n",
    "plt.imshow(load_img(f_severe[1][0]))"
   ]
  },
  {
   "cell_type": "code",
   "execution_count": null,
   "metadata": {},
   "outputs": [],
   "source": [
    "#Predicted to be damaged to be severe but true value is moderate\n",
    "plt.imshow(load_img(f_severe[-1][0]))"
   ]
  }
 ],
 "metadata": {
  "kernelspec": {
   "display_name": "Python 3",
   "language": "python",
   "name": "python3"
  },
  "language_info": {
   "codemirror_mode": {
    "name": "ipython",
    "version": 3
   },
   "file_extension": ".py",
   "mimetype": "text/x-python",
   "name": "python",
   "nbconvert_exporter": "python",
   "pygments_lexer": "ipython3",
   "version": "3.7.7"
  }
 },
 "nbformat": 4,
 "nbformat_minor": 4
}
